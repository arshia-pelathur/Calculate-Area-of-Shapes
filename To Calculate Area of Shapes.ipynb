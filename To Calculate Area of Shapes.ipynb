{
 "cells": [
  {
   "cell_type": "markdown",
   "metadata": {},
   "source": [
    "### Problem:\n",
    "\n",
    "1. Write a program to calculate area of shapes. Your program should be capable of calculating the area of a square, rectangle, triangle and a circle. The user should be presented with options to select the shape. Based on which shape is chosed by the user, the program should ask for the appropriate input and print the resulting area on the screen.\n",
    "\n",
    "When the program is run, the screen should display something like this:\n",
    "\n",
    "**Which shape would you like to calculate the area for? Please enter the option number-**<br>\n",
    "**1. Square**<br>\n",
    "**2. Rectangle**<br>\n",
    "**3. Triangle**<br>\n",
    "**4. Circle**<br>\n",
    "**Enter Option: _**\n",
    "\n",
    "Say the user enters the option 1.\n",
    "\n",
    "**Please enter the length of a side: _**\n",
    "\n",
    "If the user enters a value of 5. The output should be:\n",
    "\n",
    "**The area of the square is 25**\n",
    "\n",
    "This program should indicate that the input is invalid if the user enters a character instead of a number as input. For instance if the user enters a value of ‘a’ instead of 5 in the previous example the program should prompt:\n",
    "\n",
    "**Invalid input, please enter a number: _**\n"
   ]
  },
  {
   "cell_type": "code",
   "execution_count": 3,
   "metadata": {},
   "outputs": [
    {
     "name": "stdout",
     "output_type": "stream",
     "text": [
      "Which shape would you like to calculate the area for? Please enter the option number: \n",
      "1. Square\n",
      "2. Rectangle\n",
      "3. Triangle\n",
      "4. Circle\n",
      "Enter option:4\n",
      "\n",
      "Enter the radius: 34\n",
      "The area of the Circle is: 3631.681\n"
     ]
    }
   ],
   "source": [
    "print('Which shape would you like to calculate the area for? Please enter the option number: ')\n",
    "from math import pi\n",
    "def calc_area(i):\n",
    "    \n",
    "    if i==1:\n",
    "        a=input('Please enter the length of a side: ')\n",
    "        assert a.replace('.','',1).isdigit(),'Invalid input, please enter a number'\n",
    "        print('The area of the Square is: {:.3f}'.format(float(a)**2))\n",
    "    \n",
    "    elif i==2:\n",
    "        l=input('Enter length of the rectangle: ')\n",
    "        assert l.replace('.','',1).isdigit(),'Invalid input, please enter a number'\n",
    "        b=input('Enter breadth of the rectangle: ')\n",
    "        assert b.replace('.','',1).isdigit(),'Invalid input, please enter a number'\n",
    "        print('The area of the Rectangle is: {:.3f}'.format(float(l)*float(b)))\n",
    "    \n",
    "    elif i==3:\n",
    "        base=input('Enter base of the triangle: ')\n",
    "        assert base.replace('.','',1).isdigit(),'Invalid input, please enter a number'\n",
    "        height=input('Enter height of the rectangle: ')\n",
    "        assert height.replace('.','',1).isdigit(),'Invalid input, please enter a number'\n",
    "        print('The area of the Triangle is: {:.3f}'.format(0.5 * float(base) * float(height)))\n",
    "    \n",
    "    else:\n",
    "        r=input('Enter the radius: ')\n",
    "        assert r.replace('.','',1).isdigit(),'Invalid input, please enter a number'\n",
    "        print('The area of the Circle is: {:.3f}'.format(pi * float(r)*float(r)))\n",
    "\n",
    "print('1. Square\\n2. Rectangle\\n3. Triangle\\n4. Circle')\n",
    "option=int(input('Enter option:'))\n",
    "print()\n",
    "try:\n",
    "    assert option>=1 and option<=4\n",
    "except:\n",
    "    print('Invalid option')\n",
    "else:\n",
    "    calc_area(option) "
   ]
  },
  {
   "cell_type": "code",
   "execution_count": null,
   "metadata": {},
   "outputs": [],
   "source": []
  }
 ],
 "metadata": {
  "kernelspec": {
   "display_name": "Python 3",
   "language": "python",
   "name": "python3"
  },
  "language_info": {
   "codemirror_mode": {
    "name": "ipython",
    "version": 3
   },
   "file_extension": ".py",
   "mimetype": "text/x-python",
   "name": "python",
   "nbconvert_exporter": "python",
   "pygments_lexer": "ipython3",
   "version": "3.6.10"
  }
 },
 "nbformat": 4,
 "nbformat_minor": 2
}
